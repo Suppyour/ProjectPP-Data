{
  "cells": [
    {
      "cell_type": "markdown",
      "metadata": {
        "id": "M-DGa20PaHnu"
      },
      "source": [
        "# Задача 1\n",
        "Написать функцию на вход которой подается строка, состоящая из латинских букв.\n",
        "Функция должна вернуть количество гласных букв (a, e, i, o, u) в этой строке. Написать тесты для кода"
      ]
    },
    {
      "cell_type": "code",
      "execution_count": 1,
      "metadata": {
        "id": "XvX8X_JJ6PCb"
      },
      "outputs": [
        {
          "name": "stdout",
          "output_type": "stream",
          "text": [
            "5\n",
            "4\n",
            "8\n",
            "0\n",
            "0\n"
          ]
        }
      ],
      "source": [
        "def dictionary(string):\n",
        "    letter = \"aeiouAEIOUYy\"\n",
        "    return sum(1 for char in string if char in letter)\n",
        "\n",
        "def test():\n",
        "    print(dictionary(\"ya na pp ura\"))\n",
        "    print(dictionary(\"chto takoe ml\"))\n",
        "    print(dictionary(\"YA DUMAL OCHEN' DOLGO\"))\n",
        "    print(dictionary(\"я щас сижу на паре Денис Борисовича\"))\n",
        "    print(dictionary(\"123 rrrhhhh 456\"))\n",
        "\n",
        "# тесты тут\n",
        "test()"
      ]
    },
    {
      "cell_type": "markdown",
      "metadata": {
        "id": "t2ClV_Y0bbr6"
      },
      "source": [
        "# Задача 2\n",
        "Написать функцию на вход, которой подается строка. Функция должна вернуть true, если\n",
        "каждый символ в строке встречается только 1 раз, иначе должна вернуть false. Написать тесты для кода"
      ]
    },
    {
      "cell_type": "code",
      "execution_count": 2,
      "metadata": {
        "id": "FppbECao6VIz"
      },
      "outputs": [
        {
          "name": "stdout",
          "output_type": "stream",
          "text": [
            "True\n",
            "True\n",
            "True\n",
            "False\n",
            "False\n",
            "True\n",
            "False\n",
            "True\n",
            "False\n"
          ]
        }
      ],
      "source": [
        "def solution(string):\n",
        "    list = {}\n",
        "    for char in string:\n",
        "        if char in list:\n",
        "            return False\n",
        "        list[char] = True\n",
        "    return True\n",
        "\n",
        "\n",
        "def test():\n",
        "    print(solution(\"qwert\"))\n",
        "    print(solution(\"asdfg\"))\n",
        "    print(solution(\"zxc\"))\n",
        "    print(solution(\"qq всем\"))\n",
        "    print(solution(\"ааббвв\"))\n",
        "    print(solution(\"AaBb\"))\n",
        "    print(solution(\"AaBbB\"))\n",
        "    print(solution(\"52\"))\n",
        "    print(solution(\"228\"))\n",
        "\n",
        "test()\n"
      ]
    },
    {
      "cell_type": "markdown",
      "metadata": {
        "id": "udRiIK1cdt6E"
      },
      "source": [
        "# Задача 3\n",
        "Написать функцию, которая принимает положительное число и возвращает количество\n",
        "бит равных 1 в этом числе. Написать тесты для кода"
      ]
    },
    {
      "cell_type": "code",
      "execution_count": 6,
      "metadata": {
        "id": "6tkfDJRz6dp_"
      },
      "outputs": [
        {
          "name": "stdout",
          "output_type": "stream",
          "text": [
            "3\n",
            "4\n",
            "10\n",
            "0\n"
          ]
        }
      ],
      "source": [
        "def count_bit(number):\n",
        "    return bin(number).count('1')\n",
        "\n",
        "def test():\n",
        "    print(count_bit(52))\n",
        "    print(count_bit(228))\n",
        "    print(count_bit(1023))\n",
        "    print(count_bit(0))\n",
        "\n",
        "\n",
        "test()"
      ]
    },
    {
      "cell_type": "markdown",
      "metadata": {
        "id": "26dDUz-Ae17N"
      },
      "source": [
        "# Задача 4\n",
        "Написать функцию, которая принимает положительное число. Функция должна вернуть то,\n",
        "сколько раз необходимо перемножать цифры числа или результат перемножения, чтобы\n",
        "получилось число состоящее из одной цифры.\n",
        "Например, для входного числа:\n",
        "· 39 функция должна вернуть 3, так как 3*9=27 => 2*7=14 => 1*4=4\n",
        "· 4 функция должна вернуть 0, так как число уже состоит из одной цифры\n",
        "· 999 функция должна вернуть 4, так как 9*9*9=729 => 7*2*9=126 => 1*2*6=12 =>\n",
        "1*2=2. Написать тесты для кода"
      ]
    },
    {
      "cell_type": "code",
      "execution_count": 1,
      "metadata": {
        "id": "BH1A_Mgi6i4G"
      },
      "outputs": [
        {
          "name": "stdout",
          "output_type": "stream",
          "text": [
            "3\n",
            "0\n",
            "4\n",
            "2\n",
            "4\n"
          ]
        }
      ],
      "source": [
        "def magic(n):\n",
        "    steps = 0\n",
        "    while n >= 10:\n",
        "        new_number = 1\n",
        "        for digit in str(n):\n",
        "            new_number *= int(digit)\n",
        "        n = new_number\n",
        "        steps += 1\n",
        "    return steps\n",
        "\n",
        "print(magic(39))\n",
        "print(magic(4))\n",
        "print(magic(999))\n",
        "print(magic(25))\n",
        "print(magic(77))"
      ]
    },
    {
      "cell_type": "markdown",
      "metadata": {
        "id": "0nS-kIa8g8vd"
      },
      "source": [
        "# Задача 5\n",
        "Написать функцию, которая принимает два целочисленных вектора одинаковой длины и\n",
        "возвращает среднеквадратическое отклонение двух векторов. Написать тесты для кода"
      ]
    },
    {
      "cell_type": "code",
      "execution_count": 2,
      "metadata": {
        "id": "8iphx4LM6xbx"
      },
      "outputs": [
        {
          "name": "stdout",
          "output_type": "stream",
          "text": [
            "0.0\n",
            "1.0\n",
            "8.0\n",
            "0.0\n",
            "1.0\n"
          ]
        }
      ],
      "source": [
        "def mse(pred, true):\n",
        "\n",
        "    squared_diff_sum = 0\n",
        "    for p, t in zip(pred, true):\n",
        "        squared_diff_sum += (p - t) ** 2\n",
        "    \n",
        "    return squared_diff_sum / len(pred)\n",
        "\n",
        "def test():\n",
        "    print(mse([1, 2, 3, 4, 5], [1, 2, 3, 4, 5]))\n",
        "    print(mse([1, 2, 3, 4, 5], [2, 3, 4, 5, 6]))\n",
        "    print(mse([1, 2, 3, 4, 5], [5, 4, 3, 2, 1]))\n",
        "    print(mse([10, 20, 30], [10, 20, 30]))\n",
        "    print(mse([1, 1, 1], [2, 2, 2]))\n",
        "\n",
        "test()\n"
      ]
    },
    {
      "cell_type": "markdown",
      "metadata": {
        "id": "vpIPKL439zkw"
      },
      "source": [
        "# Задача 6\n",
        "Написать функцию, принимающая целое положительное число. Функция должна вернуть\n",
        "строку вида “(n1**p1)(n2**p2)…(nk**pk)” представляющая разложение числа на простые\n",
        "множители (если pi == 1, то выводить только ni).\n",
        "Например, для числа 86240 функция должна вернуть “(2**5)(5)(7**2)(11)”. Написать тесты для кода"
      ]
    },
    {
      "cell_type": "code",
      "execution_count": 5,
      "metadata": {
        "id": "pFebmcZk94Jw"
      },
      "outputs": [
        {
          "name": "stdout",
          "output_type": "stream",
          "text": [
            "2**5  5 7**2  11 \n",
            "2**3 3**2  5 \n",
            " 13 \n",
            "2**2 5**2 \n"
          ]
        }
      ],
      "source": [
        "def prime_factors(n):\n",
        "    i = 2\n",
        "    factors = {}\n",
        "    while i * i <= n:\n",
        "        while (n % i) == 0:\n",
        "            if i in factors:\n",
        "                factors[i] += 1\n",
        "            else:\n",
        "                factors[i] = 1\n",
        "            n //= i\n",
        "        i += 1\n",
        "    if n > 1:\n",
        "        factors[n] = 1\n",
        "    return ''.join(f'{k}**{v} ' if v > 1 else f' {k} ' for k, v in factors.items())\n",
        "\n",
        "def test():\n",
        "    print(prime_factors(86240))\n",
        "    print(prime_factors(360))\n",
        "    print(prime_factors(13))\n",
        "    print(prime_factors(100))\n",
        "\n",
        "test()\n"
      ]
    },
    {
      "cell_type": "markdown",
      "metadata": {
        "id": "ps2s0BudX7A2"
      },
      "source": [
        "# Задача 7\n",
        "Написать функцию, принимающая целое число n, задающее количество кубиков. Функция\n",
        "должна определить, можно ли из данного кол-ва кубиков построить пирамиду, то есть\n",
        "можно ли представить число n как 1^2+2^2+3^2+…+k^2. Если можно, то функция должна\n",
        "вернуть k, иначе строку “It is impossible”. Написать тесты для кода"
      ]
    },
    {
      "cell_type": "code",
      "execution_count": null,
      "metadata": {
        "id": "3YPjEXxhX_YT"
      },
      "outputs": [],
      "source": [
        "def pyramid(number):\n",
        "    # Your code goes here\n",
        "    pass"
      ]
    },
    {
      "cell_type": "markdown",
      "metadata": {
        "id": "KeKgmIdAQMEJ"
      },
      "source": [
        "# Задача 8\n",
        "Функция принимает на вход положительное число и определяет является ли оно сбалансированным, т.е. сумма цифр до средних равна сумме цифр после. Средними в случае нечетного числа цифр считать одну цифру, в случае четного - две средних. Написать тесты для кода"
      ]
    },
    {
      "cell_type": "code",
      "execution_count": null,
      "metadata": {
        "id": "gMAAqtqlQrZt"
      },
      "outputs": [],
      "source": [
        "# Your code goes here"
      ]
    }
  ],
  "metadata": {
    "colab": {
      "provenance": []
    },
    "kernelspec": {
      "display_name": "Python 3",
      "name": "python3"
    },
    "language_info": {
      "codemirror_mode": {
        "name": "ipython",
        "version": 3
      },
      "file_extension": ".py",
      "mimetype": "text/x-python",
      "name": "python",
      "nbconvert_exporter": "python",
      "pygments_lexer": "ipython3",
      "version": "3.12.6"
    }
  },
  "nbformat": 4,
  "nbformat_minor": 0
}
